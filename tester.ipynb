{
 "cells": [
  {
   "cell_type": "code",
   "execution_count": 1,
   "metadata": {},
   "outputs": [
    {
     "name": "stdout",
     "output_type": "stream",
     "text": [
      "WARNING:tensorflow:From C:\\Users\\prach\\AppData\\Roaming\\Python\\Python39\\site-packages\\tf_keras\\src\\losses.py:2976: The name tf.losses.sparse_softmax_cross_entropy is deprecated. Please use tf.compat.v1.losses.sparse_softmax_cross_entropy instead.\n",
      "\n"
     ]
    }
   ],
   "source": [
    "import cv2\n",
    "from deepface import DeepFace\n",
    "import numpy as np"
   ]
  },
  {
   "cell_type": "markdown",
   "metadata": {},
   "source": [
    "# Haar Cascade Classifier version"
   ]
  },
  {
   "cell_type": "code",
   "execution_count": 4,
   "metadata": {},
   "outputs": [],
   "source": [
    "import cv2\n",
    "import numpy as np\n",
    "\n",
    "def capture_face():\n",
    "    cap = cv2.VideoCapture(0)\n",
    "    face_cascade = cv2.CascadeClassifier(cv2.data.haarcascades + 'haarcascade_frontalface_default.xml')\n",
    "\n",
    "    while True:\n",
    "        ret, frame = cap.read()\n",
    "        if ret:\n",
    "            # Convert the frame to grayscale\n",
    "            gray = cv2.cvtColor(frame, cv2.COLOR_BGR2GRAY)\n",
    "\n",
    "            # Detect faces in the grayscale frame\n",
    "            faces = face_cascade.detectMultiScale(gray, scaleFactor=1.1, minNeighbors=5, minSize=(30, 30))\n",
    "\n",
    "            if len(faces) > 0:\n",
    "                # Normalize the face image and convert it to a numpy array\n",
    "                x, y, w, h = faces[0]\n",
    "                face_img = gray[y:y+h, x:x+w]\n",
    "                face_img = cv2.resize(face_img, (100, 100))\n",
    "                face_data = np.array(face_img, dtype=np.float32).flatten()\n",
    "\n",
    "                cap.release()\n",
    "                cv2.destroyAllWindows()\n",
    "                return face_data\n",
    "\n",
    "            # Display the camera feed\n",
    "            cv2.imshow('Capture Face', frame)\n",
    "\n",
    "            # Wait for the user to press 'Enter' to capture the face\n",
    "            if cv2.waitKey(1) & 0xFF == 13:\n",
    "                cap.release()\n",
    "                cv2.destroyAllWindows()\n",
    "                return face_data\n",
    "\n",
    "            # Wait for the user to press 'Esc' to exit\n",
    "            if cv2.waitKey(1) & 0xFF == 27:\n",
    "                cap.release()\n",
    "                cv2.destroyAllWindows()\n",
    "                return None"
   ]
  },
  {
   "cell_type": "code",
   "execution_count": 7,
   "metadata": {},
   "outputs": [
    {
     "ename": "",
     "evalue": "",
     "output_type": "error",
     "traceback": [
      "\u001b[1;31mThe Kernel crashed while executing code in the current cell or a previous cell. \n",
      "\u001b[1;31mPlease review the code in the cell(s) to identify a possible cause of the failure. \n",
      "\u001b[1;31mClick <a href='https://aka.ms/vscodeJupyterKernelCrash'>here</a> for more info. \n",
      "\u001b[1;31mView Jupyter <a href='command:jupyter.viewOutput'>log</a> for further details."
     ]
    }
   ],
   "source": [
    "cv2.VideoCapture(0).release()"
   ]
  },
  {
   "cell_type": "code",
   "execution_count": 5,
   "metadata": {},
   "outputs": [
    {
     "data": {
      "text/plain": [
       "array([142., 144., 148., ..., 144., 144., 145.], dtype=float32)"
      ]
     },
     "execution_count": 5,
     "metadata": {},
     "output_type": "execute_result"
    }
   ],
   "source": [
    "capture_face()"
   ]
  },
  {
   "cell_type": "markdown",
   "metadata": {},
   "source": [
    "# deepface version"
   ]
  },
  {
   "cell_type": "code",
   "execution_count": null,
   "metadata": {},
   "outputs": [],
   "source": [
    "\n",
    "# Function to capture and store facial data\n",
    "def capture_face():\n",
    "    cap = cv2.VideoCapture(0)\n",
    "    ret, frame = cap.read()\n",
    "    if ret:\n",
    "        # Normalize the frame to match DeepFace input requirements\n",
    "        face_img = cv2.resize(frame, (182, 182))\n",
    "\n",
    "        # Extract facial embedding using DeepFace\n",
    "        face_data = DeepFace.represent(face_img)\n",
    "        face_data = face_data.flatten()\n",
    "\n",
    "        cap.release()\n",
    "        return face_data\n",
    "\n",
    "    cap.release()\n",
    "    return None"
   ]
  }
 ],
 "metadata": {
  "kernelspec": {
   "display_name": "base",
   "language": "python",
   "name": "python3"
  },
  "language_info": {
   "codemirror_mode": {
    "name": "ipython",
    "version": 3
   },
   "file_extension": ".py",
   "mimetype": "text/x-python",
   "name": "python",
   "nbconvert_exporter": "python",
   "pygments_lexer": "ipython3",
   "version": "3.9.18"
  }
 },
 "nbformat": 4,
 "nbformat_minor": 2
}
